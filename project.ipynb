{
 "cells": [
  {
   "cell_type": "code",
   "execution_count": null,
   "id": "8d775015-9c91-4589-9f3b-70734bd35aec",
   "metadata": {},
   "outputs": [],
   "source": [
    "num1 = float(input)\n",
    "num2 = float(input)\n",
    "num3 = float(input)\n",
    "\n",
    "if(num1 > num2 > num3):\n",
    "    print(num1)\n",
    "\n",
    "else:\n",
    "    if (num2 > num3):\n",
    "        print(num2)\n",
    "        \n",
    "    else:\n",
    "        print(num3) "
   ]
  }
 ],
 "metadata": {
  "kernelspec": {
   "display_name": "Python 3 (ipykernel)",
   "language": "python",
   "name": "python3"
  },
  "language_info": {
   "codemirror_mode": {
    "name": "ipython",
    "version": 3
   },
   "file_extension": ".py",
   "mimetype": "text/x-python",
   "name": "python",
   "nbconvert_exporter": "python",
   "pygments_lexer": "ipython3",
   "version": "3.11.7"
  }
 },
 "nbformat": 4,
 "nbformat_minor": 5
}
